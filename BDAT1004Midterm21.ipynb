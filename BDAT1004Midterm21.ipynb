{
 "cells": [
  {
   "cell_type": "code",
   "execution_count": 2,
   "id": "d5787a6f",
   "metadata": {},
   "outputs": [
    {
     "name": "stdout",
     "output_type": "stream",
     "text": [
      "Requirement already satisfied: ipython-sql in d:\\class\\anaconda\\lib\\site-packages (0.4.0)\n",
      "Requirement already satisfied: ipython>=1.0 in d:\\class\\anaconda\\lib\\site-packages (from ipython-sql) (7.29.0)\n",
      "Requirement already satisfied: prettytable<1 in d:\\class\\anaconda\\lib\\site-packages (from ipython-sql) (0.7.2)\n",
      "Requirement already satisfied: six in d:\\class\\anaconda\\lib\\site-packages (from ipython-sql) (1.16.0)\n",
      "Requirement already satisfied: sqlparse in d:\\class\\anaconda\\lib\\site-packages (from ipython-sql) (0.4.2)\n",
      "Requirement already satisfied: ipython-genutils>=0.1.0 in d:\\class\\anaconda\\lib\\site-packages (from ipython-sql) (0.2.0)\n",
      "Requirement already satisfied: sqlalchemy>=0.6.7 in d:\\class\\anaconda\\lib\\site-packages (from ipython-sql) (1.4.22)\n",
      "Requirement already satisfied: matplotlib-inline in d:\\class\\anaconda\\lib\\site-packages (from ipython>=1.0->ipython-sql) (0.1.2)\n",
      "Requirement already satisfied: pygments in d:\\class\\anaconda\\lib\\site-packages (from ipython>=1.0->ipython-sql) (2.10.0)\n",
      "Requirement already satisfied: setuptools>=18.5 in d:\\class\\anaconda\\lib\\site-packages (from ipython>=1.0->ipython-sql) (58.0.4)\n",
      "Requirement already satisfied: prompt-toolkit!=3.0.0,!=3.0.1,<3.1.0,>=2.0.0 in d:\\class\\anaconda\\lib\\site-packages (from ipython>=1.0->ipython-sql) (3.0.20)\n",
      "Requirement already satisfied: decorator in d:\\class\\anaconda\\lib\\site-packages (from ipython>=1.0->ipython-sql) (5.1.0)\n",
      "Requirement already satisfied: pickleshare in d:\\class\\anaconda\\lib\\site-packages (from ipython>=1.0->ipython-sql) (0.7.5)\n",
      "Requirement already satisfied: traitlets>=4.2 in d:\\class\\anaconda\\lib\\site-packages (from ipython>=1.0->ipython-sql) (5.1.0)\n",
      "Requirement already satisfied: backcall in d:\\class\\anaconda\\lib\\site-packages (from ipython>=1.0->ipython-sql) (0.2.0)\n",
      "Requirement already satisfied: colorama in d:\\class\\anaconda\\lib\\site-packages (from ipython>=1.0->ipython-sql) (0.4.4)\n",
      "Requirement already satisfied: jedi>=0.16 in d:\\class\\anaconda\\lib\\site-packages (from ipython>=1.0->ipython-sql) (0.18.0)\n",
      "Requirement already satisfied: parso<0.9.0,>=0.8.0 in d:\\class\\anaconda\\lib\\site-packages (from jedi>=0.16->ipython>=1.0->ipython-sql) (0.8.2)\n",
      "Requirement already satisfied: wcwidth in d:\\class\\anaconda\\lib\\site-packages (from prompt-toolkit!=3.0.0,!=3.0.1,<3.1.0,>=2.0.0->ipython>=1.0->ipython-sql) (0.2.5)\n",
      "Requirement already satisfied: greenlet!=0.4.17 in d:\\class\\anaconda\\lib\\site-packages (from sqlalchemy>=0.6.7->ipython-sql) (1.1.1)\n"
     ]
    }
   ],
   "source": [
    "!pip install ipython-sql"
   ]
  },
  {
   "cell_type": "code",
   "execution_count": 3,
   "id": "c187c684",
   "metadata": {},
   "outputs": [],
   "source": [
    "%load_ext sql"
   ]
  },
  {
   "cell_type": "code",
   "execution_count": 4,
   "id": "9b048d21",
   "metadata": {},
   "outputs": [],
   "source": [
    "%sql sqlite://"
   ]
  },
  {
   "cell_type": "code",
   "execution_count": 5,
   "id": "8cd0693b",
   "metadata": {},
   "outputs": [
    {
     "name": "stdout",
     "output_type": "stream",
     "text": [
      " * sqlite://\n",
      "Done.\n"
     ]
    },
    {
     "data": {
      "text/plain": [
       "[]"
      ]
     },
     "execution_count": 5,
     "metadata": {},
     "output_type": "execute_result"
    }
   ],
   "source": [
    "%%sql\n",
    "CREATE TABLE World\n",
    "(\n",
    "name varchar(15),\n",
    "continent varchar(15),\n",
    "area float,\n",
    "population float,\n",
    "gdp float\n",
    ");"
   ]
  },
  {
   "cell_type": "code",
   "execution_count": 6,
   "id": "d5a3342c",
   "metadata": {},
   "outputs": [
    {
     "name": "stdout",
     "output_type": "stream",
     "text": [
      " * sqlite://\n",
      "5 rows affected.\n"
     ]
    },
    {
     "data": {
      "text/plain": [
       "[]"
      ]
     },
     "execution_count": 6,
     "metadata": {},
     "output_type": "execute_result"
    }
   ],
   "source": [
    "%%sql\n",
    "INSERT INTO World VALUES\n",
    "('Afghanistan', 'Asia', 652230, 25500100, 20343000),\n",
    "('Albania', 'Europe', 28748, 2831741, 12960000),\n",
    "('Algeria', 'Africa', 2381741, 37100000, 188681000),\n",
    "('Andorra', 'Europe', 468, 78115, 3712000),\n",
    "('Angola', 'Africa', 1246700, 20609294, 100990000);"
   ]
  },
  {
   "cell_type": "code",
   "execution_count": 7,
   "id": "92dd7eb7",
   "metadata": {},
   "outputs": [
    {
     "name": "stdout",
     "output_type": "stream",
     "text": [
      " * sqlite://\n",
      "Done.\n"
     ]
    },
    {
     "data": {
      "text/html": [
       "<table>\n",
       "    <tr>\n",
       "        <th>name</th>\n",
       "        <th>continent</th>\n",
       "        <th>area</th>\n",
       "        <th>population</th>\n",
       "        <th>gdp</th>\n",
       "    </tr>\n",
       "    <tr>\n",
       "        <td>Afghanistan</td>\n",
       "        <td>Asia</td>\n",
       "        <td>652230.0</td>\n",
       "        <td>25500100.0</td>\n",
       "        <td>20343000.0</td>\n",
       "    </tr>\n",
       "    <tr>\n",
       "        <td>Albania</td>\n",
       "        <td>Europe</td>\n",
       "        <td>28748.0</td>\n",
       "        <td>2831741.0</td>\n",
       "        <td>12960000.0</td>\n",
       "    </tr>\n",
       "    <tr>\n",
       "        <td>Algeria</td>\n",
       "        <td>Africa</td>\n",
       "        <td>2381741.0</td>\n",
       "        <td>37100000.0</td>\n",
       "        <td>188681000.0</td>\n",
       "    </tr>\n",
       "    <tr>\n",
       "        <td>Andorra</td>\n",
       "        <td>Europe</td>\n",
       "        <td>468.0</td>\n",
       "        <td>78115.0</td>\n",
       "        <td>3712000.0</td>\n",
       "    </tr>\n",
       "    <tr>\n",
       "        <td>Angola</td>\n",
       "        <td>Africa</td>\n",
       "        <td>1246700.0</td>\n",
       "        <td>20609294.0</td>\n",
       "        <td>100990000.0</td>\n",
       "    </tr>\n",
       "</table>"
      ],
      "text/plain": [
       "[('Afghanistan', 'Asia', 652230.0, 25500100.0, 20343000.0),\n",
       " ('Albania', 'Europe', 28748.0, 2831741.0, 12960000.0),\n",
       " ('Algeria', 'Africa', 2381741.0, 37100000.0, 188681000.0),\n",
       " ('Andorra', 'Europe', 468.0, 78115.0, 3712000.0),\n",
       " ('Angola', 'Africa', 1246700.0, 20609294.0, 100990000.0)]"
      ]
     },
     "execution_count": 7,
     "metadata": {},
     "output_type": "execute_result"
    }
   ],
   "source": [
    "%%sql\n",
    "select * from World;"
   ]
  },
  {
   "cell_type": "code",
   "execution_count": 8,
   "id": "44f5681f",
   "metadata": {},
   "outputs": [
    {
     "name": "stdout",
     "output_type": "stream",
     "text": [
      " * sqlite://\n",
      "Done.\n"
     ]
    },
    {
     "data": {
      "text/html": [
       "<table>\n",
       "    <tr>\n",
       "        <th>name</th>\n",
       "        <th>population</th>\n",
       "        <th>area</th>\n",
       "    </tr>\n",
       "    <tr>\n",
       "        <td>Afghanistan</td>\n",
       "        <td>25500100.0</td>\n",
       "        <td>652230.0</td>\n",
       "    </tr>\n",
       "    <tr>\n",
       "        <td>Algeria</td>\n",
       "        <td>37100000.0</td>\n",
       "        <td>2381741.0</td>\n",
       "    </tr>\n",
       "</table>"
      ],
      "text/plain": [
       "[('Afghanistan', 25500100.0, 652230.0), ('Algeria', 37100000.0, 2381741.0)]"
      ]
     },
     "execution_count": 8,
     "metadata": {},
     "output_type": "execute_result"
    }
   ],
   "source": [
    "%%sql\n",
    "select name,population,area from World\n",
    "where area > 3000000 or population > 25000000;"
   ]
  },
  {
   "cell_type": "code",
   "execution_count": null,
   "id": "008164a4",
   "metadata": {},
   "outputs": [],
   "source": []
  }
 ],
 "metadata": {
  "kernelspec": {
   "display_name": "Python 3 (ipykernel)",
   "language": "python",
   "name": "python3"
  },
  "language_info": {
   "codemirror_mode": {
    "name": "ipython",
    "version": 3
   },
   "file_extension": ".py",
   "mimetype": "text/x-python",
   "name": "python",
   "nbconvert_exporter": "python",
   "pygments_lexer": "ipython3",
   "version": "3.9.7"
  }
 },
 "nbformat": 4,
 "nbformat_minor": 5
}
